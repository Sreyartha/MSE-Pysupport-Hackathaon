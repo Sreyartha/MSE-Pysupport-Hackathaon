{
 "cells": [
  {
   "cell_type": "code",
   "execution_count": 1,
   "metadata": {
    "_cell_guid": "b1076dfc-b9ad-4769-8c92-a6c4dae69d19",
    "_uuid": "8f2839f25d086af736a60e9eeb907d3b93b6e0e5",
    "execution": {
     "iopub.execute_input": "2020-08-09T20:28:07.951616Z",
     "iopub.status.busy": "2020-08-09T20:28:07.950784Z",
     "iopub.status.idle": "2020-08-09T20:28:07.956096Z",
     "shell.execute_reply": "2020-08-09T20:28:07.955299Z"
    },
    "papermill": {
     "duration": 0.037271,
     "end_time": "2020-08-09T20:28:07.956232",
     "exception": false,
     "start_time": "2020-08-09T20:28:07.918961",
     "status": "completed"
    },
    "tags": []
   },
   "outputs": [
    {
     "name": "stdout",
     "output_type": "stream",
     "text": [
      "/kaggle/input/mse-pysupport-hackathon/MetaData.xlsx\n",
      "/kaggle/input/mse-pysupport-hackathon/holdout.csv\n",
      "/kaggle/input/mse-pysupport-hackathon/simulation.csv\n"
     ]
    }
   ],
   "source": [
    "# This Python 3 environment comes with many helpful analytics libraries installed\n",
    "# It is defined by the kaggle/python Docker image: https://github.com/kaggle/docker-python\n",
    "# For example, here's several helpful packages to load\n",
    "\n",
    "import numpy as np # linear algebra\n",
    "import pandas as pd # data processing, CSV file I/O (e.g. pd.read_csv)\n",
    "\n",
    "# Input data files are available in the read-only \"../input/\" directory\n",
    "# For example, running this (by clicking run or pressing Shift+Enter) will list all files under the input directory\n",
    "\n",
    "import os\n",
    "for dirname, _, filenames in os.walk('/kaggle/input'):\n",
    "    for filename in filenames:\n",
    "        print(os.path.join(dirname, filename))\n",
    "\n",
    "# You can write up to 5GB to the current directory (/kaggle/working/) that gets preserved as output when you create a version using \"Save & Run All\" \n",
    "# You can also write temporary files to /kaggle/temp/, but they won't be saved outside of the current session"
   ]
  },
  {
   "cell_type": "code",
   "execution_count": 2,
   "metadata": {
    "execution": {
     "iopub.execute_input": "2020-08-09T20:28:08.011098Z",
     "iopub.status.busy": "2020-08-09T20:28:08.010241Z",
     "iopub.status.idle": "2020-08-09T20:28:16.221563Z",
     "shell.execute_reply": "2020-08-09T20:28:16.220802Z"
    },
    "papermill": {
     "duration": 8.241321,
     "end_time": "2020-08-09T20:28:16.221693",
     "exception": false,
     "start_time": "2020-08-09T20:28:07.980372",
     "status": "completed"
    },
    "tags": []
   },
   "outputs": [],
   "source": [
    "import pandas as pd\n",
    "from sklearn.model_selection import train_test_split\n",
    "\n",
    "# Read the data\n",
    "X = pd.read_csv('/kaggle/input/mse-pysupport-hackathon/simulation.csv')\n",
    "X_test_full = pd.read_csv('/kaggle/input/mse-pysupport-hackathon/holdout.csv', index_col='Id')"
   ]
  },
  {
   "cell_type": "code",
   "execution_count": 3,
   "metadata": {
    "execution": {
     "iopub.execute_input": "2020-08-09T20:28:16.298750Z",
     "iopub.status.busy": "2020-08-09T20:28:16.297984Z",
     "iopub.status.idle": "2020-08-09T20:28:16.317110Z",
     "shell.execute_reply": "2020-08-09T20:28:16.317738Z"
    },
    "papermill": {
     "duration": 0.071974,
     "end_time": "2020-08-09T20:28:16.317934",
     "exception": false,
     "start_time": "2020-08-09T20:28:16.245960",
     "status": "completed"
    },
    "tags": []
   },
   "outputs": [
    {
     "data": {
      "text/html": [
       "<div>\n",
       "<style scoped>\n",
       "    .dataframe tbody tr th:only-of-type {\n",
       "        vertical-align: middle;\n",
       "    }\n",
       "\n",
       "    .dataframe tbody tr th {\n",
       "        vertical-align: top;\n",
       "    }\n",
       "\n",
       "    .dataframe thead th {\n",
       "        text-align: right;\n",
       "    }\n",
       "</style>\n",
       "<table border=\"1\" class=\"dataframe\">\n",
       "  <thead>\n",
       "    <tr style=\"text-align: right;\">\n",
       "      <th></th>\n",
       "      <th>SalePrice</th>\n",
       "      <th>SaleDate</th>\n",
       "      <th>SaleDeed</th>\n",
       "      <th>ArmsLengthTransaction</th>\n",
       "      <th>EstimateLand</th>\n",
       "      <th>EstimateBuilding</th>\n",
       "      <th>MostRecentSale</th>\n",
       "      <th>Pin</th>\n",
       "      <th>PropertyAddress</th>\n",
       "      <th>NeighborhoodCode</th>\n",
       "      <th>...</th>\n",
       "      <th>RepairCondition</th>\n",
       "      <th>GarageIndicator</th>\n",
       "      <th>Garage1Size</th>\n",
       "      <th>Garage1Material</th>\n",
       "      <th>Garage1Attachment</th>\n",
       "      <th>Garage1Area</th>\n",
       "      <th>Garage2Size</th>\n",
       "      <th>Garage2Material</th>\n",
       "      <th>Garage2Attachment</th>\n",
       "      <th>Garage2Area</th>\n",
       "    </tr>\n",
       "  </thead>\n",
       "  <tbody>\n",
       "    <tr>\n",
       "      <th>0</th>\n",
       "      <td>407000</td>\n",
       "      <td>09/17/2013</td>\n",
       "      <td>1326022056</td>\n",
       "      <td>1</td>\n",
       "      <td>55800</td>\n",
       "      <td>80200</td>\n",
       "      <td>1.0</td>\n",
       "      <td>13013260100000</td>\n",
       "      <td>5627 N RICHMOND ST</td>\n",
       "      <td>42</td>\n",
       "      <td>...</td>\n",
       "      <td>Avg</td>\n",
       "      <td>1.0</td>\n",
       "      <td>3.0</td>\n",
       "      <td>Wood</td>\n",
       "      <td>No</td>\n",
       "      <td>No</td>\n",
       "      <td>7.0</td>\n",
       "      <td>Other</td>\n",
       "      <td>Other</td>\n",
       "      <td>Other1</td>\n",
       "    </tr>\n",
       "    <tr>\n",
       "      <th>1</th>\n",
       "      <td>1</td>\n",
       "      <td>05/08/2017</td>\n",
       "      <td>1712801037</td>\n",
       "      <td>0</td>\n",
       "      <td>30620</td>\n",
       "      <td>34480</td>\n",
       "      <td>1.0</td>\n",
       "      <td>14061120241008</td>\n",
       "      <td>6116 N CLAREMONT AVE</td>\n",
       "      <td>11</td>\n",
       "      <td>...</td>\n",
       "      <td>NaN</td>\n",
       "      <td>NaN</td>\n",
       "      <td>NaN</td>\n",
       "      <td>NaN</td>\n",
       "      <td>NaN</td>\n",
       "      <td>NaN</td>\n",
       "      <td>NaN</td>\n",
       "      <td>NaN</td>\n",
       "      <td>NaN</td>\n",
       "      <td>NaN</td>\n",
       "    </tr>\n",
       "    <tr>\n",
       "      <th>2</th>\n",
       "      <td>340000</td>\n",
       "      <td>07/17/2013</td>\n",
       "      <td>1319841023</td>\n",
       "      <td>1</td>\n",
       "      <td>8490</td>\n",
       "      <td>253800</td>\n",
       "      <td>0.0</td>\n",
       "      <td>14213140481165</td>\n",
       "      <td>3200 N LAKE SHORE DR</td>\n",
       "      <td>62</td>\n",
       "      <td>...</td>\n",
       "      <td>NaN</td>\n",
       "      <td>NaN</td>\n",
       "      <td>NaN</td>\n",
       "      <td>NaN</td>\n",
       "      <td>NaN</td>\n",
       "      <td>NaN</td>\n",
       "      <td>NaN</td>\n",
       "      <td>NaN</td>\n",
       "      <td>NaN</td>\n",
       "      <td>NaN</td>\n",
       "    </tr>\n",
       "    <tr>\n",
       "      <th>3</th>\n",
       "      <td>89000</td>\n",
       "      <td>06/29/2018</td>\n",
       "      <td>1818057130</td>\n",
       "      <td>1</td>\n",
       "      <td>23760</td>\n",
       "      <td>124690</td>\n",
       "      <td>1.0</td>\n",
       "      <td>24362310030000</td>\n",
       "      <td>2449 NEW ST</td>\n",
       "      <td>132</td>\n",
       "      <td>...</td>\n",
       "      <td>Avg</td>\n",
       "      <td>1.0</td>\n",
       "      <td>3.0</td>\n",
       "      <td>Wood</td>\n",
       "      <td>No</td>\n",
       "      <td>No</td>\n",
       "      <td>7.0</td>\n",
       "      <td>Other</td>\n",
       "      <td>Other</td>\n",
       "      <td>Other1</td>\n",
       "    </tr>\n",
       "    <tr>\n",
       "      <th>4</th>\n",
       "      <td>375000</td>\n",
       "      <td>09/24/2014</td>\n",
       "      <td>1426755105</td>\n",
       "      <td>1</td>\n",
       "      <td>59850</td>\n",
       "      <td>253540</td>\n",
       "      <td>1.0</td>\n",
       "      <td>16081150120000</td>\n",
       "      <td>229 N TAYLOR AVE</td>\n",
       "      <td>90</td>\n",
       "      <td>...</td>\n",
       "      <td>Avg</td>\n",
       "      <td>1.0</td>\n",
       "      <td>3.0</td>\n",
       "      <td>Wood</td>\n",
       "      <td>No</td>\n",
       "      <td>No</td>\n",
       "      <td>7.0</td>\n",
       "      <td>Other</td>\n",
       "      <td>Other</td>\n",
       "      <td>Other1</td>\n",
       "    </tr>\n",
       "  </tbody>\n",
       "</table>\n",
       "<p>5 rows × 64 columns</p>\n",
       "</div>"
      ],
      "text/plain": [
       "   SalePrice    SaleDate    SaleDeed  ArmsLengthTransaction  EstimateLand  \\\n",
       "0     407000  09/17/2013  1326022056                      1         55800   \n",
       "1          1  05/08/2017  1712801037                      0         30620   \n",
       "2     340000  07/17/2013  1319841023                      1          8490   \n",
       "3      89000  06/29/2018  1818057130                      1         23760   \n",
       "4     375000  09/24/2014  1426755105                      1         59850   \n",
       "\n",
       "   EstimateBuilding  MostRecentSale             Pin       PropertyAddress  \\\n",
       "0             80200             1.0  13013260100000    5627 N RICHMOND ST   \n",
       "1             34480             1.0  14061120241008  6116 N CLAREMONT AVE   \n",
       "2            253800             0.0  14213140481165  3200 N LAKE SHORE DR   \n",
       "3            124690             1.0  24362310030000           2449 NEW ST   \n",
       "4            253540             1.0  16081150120000      229 N TAYLOR AVE   \n",
       "\n",
       "   NeighborhoodCode  ... RepairCondition GarageIndicator  Garage1Size  \\\n",
       "0                42  ...             Avg             1.0          3.0   \n",
       "1                11  ...             NaN             NaN          NaN   \n",
       "2                62  ...             NaN             NaN          NaN   \n",
       "3               132  ...             Avg             1.0          3.0   \n",
       "4                90  ...             Avg             1.0          3.0   \n",
       "\n",
       "   Garage1Material  Garage1Attachment  Garage1Area  Garage2Size  \\\n",
       "0             Wood                 No           No          7.0   \n",
       "1              NaN                NaN          NaN          NaN   \n",
       "2              NaN                NaN          NaN          NaN   \n",
       "3             Wood                 No           No          7.0   \n",
       "4             Wood                 No           No          7.0   \n",
       "\n",
       "   Garage2Material Garage2Attachment  Garage2Area  \n",
       "0            Other             Other       Other1  \n",
       "1              NaN               NaN          NaN  \n",
       "2              NaN               NaN          NaN  \n",
       "3            Other             Other       Other1  \n",
       "4            Other             Other       Other1  \n",
       "\n",
       "[5 rows x 64 columns]"
      ]
     },
     "execution_count": 3,
     "metadata": {},
     "output_type": "execute_result"
    }
   ],
   "source": [
    "X.head()"
   ]
  },
  {
   "cell_type": "code",
   "execution_count": 4,
   "metadata": {
    "execution": {
     "iopub.execute_input": "2020-08-09T20:28:16.382726Z",
     "iopub.status.busy": "2020-08-09T20:28:16.381911Z",
     "iopub.status.idle": "2020-08-09T20:28:16.413464Z",
     "shell.execute_reply": "2020-08-09T20:28:16.412631Z"
    },
    "papermill": {
     "duration": 0.066487,
     "end_time": "2020-08-09T20:28:16.413594",
     "exception": false,
     "start_time": "2020-08-09T20:28:16.347107",
     "status": "completed"
    },
    "tags": []
   },
   "outputs": [],
   "source": [
    "# Feature engineering\n",
    "\n",
    "X[\"PastMarketValue\"] = X[\"EstimateLand\"] + X[\"EstimateBuilding\"]\n",
    "\n",
    "X[\"Total_sq_ft\"] = X[\"LandSquareFeet\"] + X[\"BuildingSquareFeet\"]\n",
    "\n",
    "X[\"SquareFeetRatio\"] = X[\"BuildingSquareFeet\"] / X[\"Total_sq_ft\"]\n",
    "\n"
   ]
  },
  {
   "cell_type": "code",
   "execution_count": 5,
   "metadata": {
    "execution": {
     "iopub.execute_input": "2020-08-09T20:28:16.469572Z",
     "iopub.status.busy": "2020-08-09T20:28:16.468731Z",
     "iopub.status.idle": "2020-08-09T20:28:16.477537Z",
     "shell.execute_reply": "2020-08-09T20:28:16.476906Z"
    },
    "papermill": {
     "duration": 0.039668,
     "end_time": "2020-08-09T20:28:16.477662",
     "exception": false,
     "start_time": "2020-08-09T20:28:16.437994",
     "status": "completed"
    },
    "tags": []
   },
   "outputs": [],
   "source": [
    "X_test_full[\"PastMarketValue\"] = X_test_full[\"EstimateLand\"] + X_test_full[\"EstimateBuilding\"]\n",
    "\n",
    "X_test_full[\"Total_sq_ft\"] = X_test_full[\"LandSquareFeet\"] + X_test_full[\"BuildingSquareFeet\"]\n",
    "\n",
    "X_test_full[\"SquareFeetRatio\"] = X_test_full[\"BuildingSquareFeet\"] / X_test_full[\"Total_sq_ft\"]"
   ]
  },
  {
   "cell_type": "code",
   "execution_count": 6,
   "metadata": {
    "execution": {
     "iopub.execute_input": "2020-08-09T20:28:16.533641Z",
     "iopub.status.busy": "2020-08-09T20:28:16.532852Z",
     "iopub.status.idle": "2020-08-09T20:28:16.894035Z",
     "shell.execute_reply": "2020-08-09T20:28:16.893364Z"
    },
    "papermill": {
     "duration": 0.392113,
     "end_time": "2020-08-09T20:28:16.894184",
     "exception": false,
     "start_time": "2020-08-09T20:28:16.502071",
     "status": "completed"
    },
    "tags": []
   },
   "outputs": [],
   "source": [
    "# Dropping columns\n",
    "drop_cols = [\"EstimateLand\",\"EstimateBuilding\"]\n",
    "\n",
    "X.drop(columns = drop_cols,axis = 1,inplace = True)\n",
    "\n"
   ]
  },
  {
   "cell_type": "code",
   "execution_count": 7,
   "metadata": {
    "execution": {
     "iopub.execute_input": "2020-08-09T20:28:17.215167Z",
     "iopub.status.busy": "2020-08-09T20:28:17.145361Z",
     "iopub.status.idle": "2020-08-09T20:28:17.218866Z",
     "shell.execute_reply": "2020-08-09T20:28:17.218033Z"
    },
    "papermill": {
     "duration": 0.29989,
     "end_time": "2020-08-09T20:28:17.219011",
     "exception": false,
     "start_time": "2020-08-09T20:28:16.919121",
     "status": "completed"
    },
    "tags": []
   },
   "outputs": [],
   "source": [
    "drop_cols_2 = [\"Total_sq_ft\",\"LandSquareFeet\",\"BuildingSquareFeet\"]\n",
    "\n",
    "X.drop(columns = drop_cols_2,axis = 1,inplace = True)\n"
   ]
  },
  {
   "cell_type": "code",
   "execution_count": 8,
   "metadata": {
    "execution": {
     "iopub.execute_input": "2020-08-09T20:28:17.278530Z",
     "iopub.status.busy": "2020-08-09T20:28:17.277003Z",
     "iopub.status.idle": "2020-08-09T20:28:17.368031Z",
     "shell.execute_reply": "2020-08-09T20:28:17.367363Z"
    },
    "papermill": {
     "duration": 0.122951,
     "end_time": "2020-08-09T20:28:17.368181",
     "exception": false,
     "start_time": "2020-08-09T20:28:17.245230",
     "status": "completed"
    },
    "tags": []
   },
   "outputs": [],
   "source": [
    "X_test_full.drop(columns = drop_cols,axis = 1,inplace = True)"
   ]
  },
  {
   "cell_type": "code",
   "execution_count": 9,
   "metadata": {
    "execution": {
     "iopub.execute_input": "2020-08-09T20:28:17.425658Z",
     "iopub.status.busy": "2020-08-09T20:28:17.424895Z",
     "iopub.status.idle": "2020-08-09T20:28:17.483901Z",
     "shell.execute_reply": "2020-08-09T20:28:17.483182Z"
    },
    "papermill": {
     "duration": 0.090792,
     "end_time": "2020-08-09T20:28:17.484040",
     "exception": false,
     "start_time": "2020-08-09T20:28:17.393248",
     "status": "completed"
    },
    "tags": []
   },
   "outputs": [],
   "source": [
    "X_test_full.drop(columns = drop_cols_2,axis = 1,inplace = True)"
   ]
  },
  {
   "cell_type": "code",
   "execution_count": 10,
   "metadata": {
    "execution": {
     "iopub.execute_input": "2020-08-09T20:28:17.540997Z",
     "iopub.status.busy": "2020-08-09T20:28:17.540175Z",
     "iopub.status.idle": "2020-08-09T20:28:17.545625Z",
     "shell.execute_reply": "2020-08-09T20:28:17.545042Z"
    },
    "papermill": {
     "duration": 0.036385,
     "end_time": "2020-08-09T20:28:17.545759",
     "exception": false,
     "start_time": "2020-08-09T20:28:17.509374",
     "status": "completed"
    },
    "tags": []
   },
   "outputs": [
    {
     "data": {
      "text/plain": [
       "((408359, 62), (143177, 61))"
      ]
     },
     "execution_count": 10,
     "metadata": {},
     "output_type": "execute_result"
    }
   ],
   "source": [
    "X.shape,X_test_full.shape"
   ]
  },
  {
   "cell_type": "code",
   "execution_count": 11,
   "metadata": {
    "execution": {
     "iopub.execute_input": "2020-08-09T20:28:18.214524Z",
     "iopub.status.busy": "2020-08-09T20:28:18.213712Z",
     "iopub.status.idle": "2020-08-09T20:28:18.502174Z",
     "shell.execute_reply": "2020-08-09T20:28:18.501369Z"
    },
    "papermill": {
     "duration": 0.930891,
     "end_time": "2020-08-09T20:28:18.502307",
     "exception": false,
     "start_time": "2020-08-09T20:28:17.571416",
     "status": "completed"
    },
    "tags": []
   },
   "outputs": [],
   "source": [
    "# Separate Year and Month from SaleDate\n",
    "\n",
    "X['SaleYear'] = pd.DatetimeIndex(X['SaleDate']).year\n",
    "\n",
    "X_test_full['SaleYear'] = pd.DatetimeIndex(X_test_full['SaleDate']).year"
   ]
  },
  {
   "cell_type": "code",
   "execution_count": 12,
   "metadata": {
    "execution": {
     "iopub.execute_input": "2020-08-09T20:28:19.165197Z",
     "iopub.status.busy": "2020-08-09T20:28:19.164174Z",
     "iopub.status.idle": "2020-08-09T20:28:19.469947Z",
     "shell.execute_reply": "2020-08-09T20:28:19.469137Z"
    },
    "papermill": {
     "duration": 0.94181,
     "end_time": "2020-08-09T20:28:19.470082",
     "exception": false,
     "start_time": "2020-08-09T20:28:18.528272",
     "status": "completed"
    },
    "tags": []
   },
   "outputs": [],
   "source": [
    "# SaleMonth can also indicate demand\n",
    "X['SaleMonth'] = pd.DatetimeIndex(X['SaleDate']).month\n",
    "\n",
    "X_test_full['SaleMonth'] = pd.DatetimeIndex(X_test_full['SaleDate']).month"
   ]
  },
  {
   "cell_type": "code",
   "execution_count": 13,
   "metadata": {
    "execution": {
     "iopub.execute_input": "2020-08-09T20:28:19.559027Z",
     "iopub.status.busy": "2020-08-09T20:28:19.557930Z",
     "iopub.status.idle": "2020-08-09T20:28:19.563576Z",
     "shell.execute_reply": "2020-08-09T20:28:19.562854Z"
    },
    "papermill": {
     "duration": 0.067659,
     "end_time": "2020-08-09T20:28:19.563701",
     "exception": false,
     "start_time": "2020-08-09T20:28:19.496042",
     "status": "completed"
    },
    "tags": []
   },
   "outputs": [
    {
     "data": {
      "text/html": [
       "<div>\n",
       "<style scoped>\n",
       "    .dataframe tbody tr th:only-of-type {\n",
       "        vertical-align: middle;\n",
       "    }\n",
       "\n",
       "    .dataframe tbody tr th {\n",
       "        vertical-align: top;\n",
       "    }\n",
       "\n",
       "    .dataframe thead th {\n",
       "        text-align: right;\n",
       "    }\n",
       "</style>\n",
       "<table border=\"1\" class=\"dataframe\">\n",
       "  <thead>\n",
       "    <tr style=\"text-align: right;\">\n",
       "      <th></th>\n",
       "      <th>SalePrice</th>\n",
       "      <th>SaleDate</th>\n",
       "      <th>SaleDeed</th>\n",
       "      <th>ArmsLengthTransaction</th>\n",
       "      <th>MostRecentSale</th>\n",
       "      <th>Pin</th>\n",
       "      <th>PropertyAddress</th>\n",
       "      <th>NeighborhoodCode</th>\n",
       "      <th>TownshipLocation</th>\n",
       "      <th>TownshipName</th>\n",
       "      <th>...</th>\n",
       "      <th>Garage1Attachment</th>\n",
       "      <th>Garage1Area</th>\n",
       "      <th>Garage2Size</th>\n",
       "      <th>Garage2Material</th>\n",
       "      <th>Garage2Attachment</th>\n",
       "      <th>Garage2Area</th>\n",
       "      <th>PastMarketValue</th>\n",
       "      <th>SquareFeetRatio</th>\n",
       "      <th>SaleYear</th>\n",
       "      <th>SaleMonth</th>\n",
       "    </tr>\n",
       "  </thead>\n",
       "  <tbody>\n",
       "    <tr>\n",
       "      <th>0</th>\n",
       "      <td>407000</td>\n",
       "      <td>09/17/2013</td>\n",
       "      <td>1326022056</td>\n",
       "      <td>1</td>\n",
       "      <td>1.0</td>\n",
       "      <td>13013260100000</td>\n",
       "      <td>5627 N RICHMOND ST</td>\n",
       "      <td>42</td>\n",
       "      <td>City</td>\n",
       "      <td>Jefferson</td>\n",
       "      <td>...</td>\n",
       "      <td>No</td>\n",
       "      <td>No</td>\n",
       "      <td>7.0</td>\n",
       "      <td>Other</td>\n",
       "      <td>Other</td>\n",
       "      <td>Other1</td>\n",
       "      <td>136000</td>\n",
       "      <td>0.147102</td>\n",
       "      <td>2013</td>\n",
       "      <td>9</td>\n",
       "    </tr>\n",
       "    <tr>\n",
       "      <th>1</th>\n",
       "      <td>1</td>\n",
       "      <td>05/08/2017</td>\n",
       "      <td>1712801037</td>\n",
       "      <td>0</td>\n",
       "      <td>1.0</td>\n",
       "      <td>14061120241008</td>\n",
       "      <td>6116 N CLAREMONT AVE</td>\n",
       "      <td>11</td>\n",
       "      <td>City</td>\n",
       "      <td>Lake View</td>\n",
       "      <td>...</td>\n",
       "      <td>NaN</td>\n",
       "      <td>NaN</td>\n",
       "      <td>NaN</td>\n",
       "      <td>NaN</td>\n",
       "      <td>NaN</td>\n",
       "      <td>NaN</td>\n",
       "      <td>65100</td>\n",
       "      <td>NaN</td>\n",
       "      <td>2017</td>\n",
       "      <td>5</td>\n",
       "    </tr>\n",
       "    <tr>\n",
       "      <th>2</th>\n",
       "      <td>340000</td>\n",
       "      <td>07/17/2013</td>\n",
       "      <td>1319841023</td>\n",
       "      <td>1</td>\n",
       "      <td>0.0</td>\n",
       "      <td>14213140481165</td>\n",
       "      <td>3200 N LAKE SHORE DR</td>\n",
       "      <td>62</td>\n",
       "      <td>City</td>\n",
       "      <td>Lake View</td>\n",
       "      <td>...</td>\n",
       "      <td>NaN</td>\n",
       "      <td>NaN</td>\n",
       "      <td>NaN</td>\n",
       "      <td>NaN</td>\n",
       "      <td>NaN</td>\n",
       "      <td>NaN</td>\n",
       "      <td>262290</td>\n",
       "      <td>NaN</td>\n",
       "      <td>2013</td>\n",
       "      <td>7</td>\n",
       "    </tr>\n",
       "    <tr>\n",
       "      <th>3</th>\n",
       "      <td>89000</td>\n",
       "      <td>06/29/2018</td>\n",
       "      <td>1818057130</td>\n",
       "      <td>1</td>\n",
       "      <td>1.0</td>\n",
       "      <td>24362310030000</td>\n",
       "      <td>2449 NEW ST</td>\n",
       "      <td>132</td>\n",
       "      <td>South</td>\n",
       "      <td>Worth</td>\n",
       "      <td>...</td>\n",
       "      <td>No</td>\n",
       "      <td>No</td>\n",
       "      <td>7.0</td>\n",
       "      <td>Other</td>\n",
       "      <td>Other</td>\n",
       "      <td>Other1</td>\n",
       "      <td>148450</td>\n",
       "      <td>0.270718</td>\n",
       "      <td>2018</td>\n",
       "      <td>6</td>\n",
       "    </tr>\n",
       "    <tr>\n",
       "      <th>4</th>\n",
       "      <td>375000</td>\n",
       "      <td>09/24/2014</td>\n",
       "      <td>1426755105</td>\n",
       "      <td>1</td>\n",
       "      <td>1.0</td>\n",
       "      <td>16081150120000</td>\n",
       "      <td>229 N TAYLOR AVE</td>\n",
       "      <td>90</td>\n",
       "      <td>South</td>\n",
       "      <td>Oak Park</td>\n",
       "      <td>...</td>\n",
       "      <td>No</td>\n",
       "      <td>No</td>\n",
       "      <td>7.0</td>\n",
       "      <td>Other</td>\n",
       "      <td>Other</td>\n",
       "      <td>Other1</td>\n",
       "      <td>313390</td>\n",
       "      <td>0.150943</td>\n",
       "      <td>2014</td>\n",
       "      <td>9</td>\n",
       "    </tr>\n",
       "  </tbody>\n",
       "</table>\n",
       "<p>5 rows × 64 columns</p>\n",
       "</div>"
      ],
      "text/plain": [
       "   SalePrice    SaleDate    SaleDeed  ArmsLengthTransaction  MostRecentSale  \\\n",
       "0     407000  09/17/2013  1326022056                      1             1.0   \n",
       "1          1  05/08/2017  1712801037                      0             1.0   \n",
       "2     340000  07/17/2013  1319841023                      1             0.0   \n",
       "3      89000  06/29/2018  1818057130                      1             1.0   \n",
       "4     375000  09/24/2014  1426755105                      1             1.0   \n",
       "\n",
       "              Pin       PropertyAddress  NeighborhoodCode TownshipLocation  \\\n",
       "0  13013260100000    5627 N RICHMOND ST                42             City   \n",
       "1  14061120241008  6116 N CLAREMONT AVE                11             City   \n",
       "2  14213140481165  3200 N LAKE SHORE DR                62             City   \n",
       "3  24362310030000           2449 NEW ST               132            South   \n",
       "4  16081150120000      229 N TAYLOR AVE                90            South   \n",
       "\n",
       "  TownshipName  ...  Garage1Attachment  Garage1Area  Garage2Size  \\\n",
       "0    Jefferson  ...                 No           No          7.0   \n",
       "1    Lake View  ...                NaN          NaN          NaN   \n",
       "2    Lake View  ...                NaN          NaN          NaN   \n",
       "3        Worth  ...                 No           No          7.0   \n",
       "4     Oak Park  ...                 No           No          7.0   \n",
       "\n",
       "   Garage2Material  Garage2Attachment  Garage2Area PastMarketValue  \\\n",
       "0            Other              Other       Other1          136000   \n",
       "1              NaN                NaN          NaN           65100   \n",
       "2              NaN                NaN          NaN          262290   \n",
       "3            Other              Other       Other1          148450   \n",
       "4            Other              Other       Other1          313390   \n",
       "\n",
       "   SquareFeetRatio  SaleYear  SaleMonth  \n",
       "0         0.147102      2013          9  \n",
       "1              NaN      2017          5  \n",
       "2              NaN      2013          7  \n",
       "3         0.270718      2018          6  \n",
       "4         0.150943      2014          9  \n",
       "\n",
       "[5 rows x 64 columns]"
      ]
     },
     "execution_count": 13,
     "metadata": {},
     "output_type": "execute_result"
    }
   ],
   "source": [
    "X.head()"
   ]
  },
  {
   "cell_type": "code",
   "execution_count": 14,
   "metadata": {
    "execution": {
     "iopub.execute_input": "2020-08-09T20:28:19.627825Z",
     "iopub.status.busy": "2020-08-09T20:28:19.626008Z",
     "iopub.status.idle": "2020-08-09T20:28:20.397259Z",
     "shell.execute_reply": "2020-08-09T20:28:20.397856Z"
    },
    "papermill": {
     "duration": 0.807227,
     "end_time": "2020-08-09T20:28:20.398041",
     "exception": false,
     "start_time": "2020-08-09T20:28:19.590814",
     "status": "completed"
    },
    "tags": []
   },
   "outputs": [
    {
     "data": {
      "text/html": [
       "<div>\n",
       "<style scoped>\n",
       "    .dataframe tbody tr th:only-of-type {\n",
       "        vertical-align: middle;\n",
       "    }\n",
       "\n",
       "    .dataframe tbody tr th {\n",
       "        vertical-align: top;\n",
       "    }\n",
       "\n",
       "    .dataframe thead th {\n",
       "        text-align: right;\n",
       "    }\n",
       "</style>\n",
       "<table border=\"1\" class=\"dataframe\">\n",
       "  <thead>\n",
       "    <tr style=\"text-align: right;\">\n",
       "      <th></th>\n",
       "      <th>SalePrice</th>\n",
       "      <th>SaleDeed</th>\n",
       "      <th>ArmsLengthTransaction</th>\n",
       "      <th>MostRecentSale</th>\n",
       "      <th>Pin</th>\n",
       "      <th>NeighborhoodCode</th>\n",
       "      <th>Longitude</th>\n",
       "      <th>Latitude</th>\n",
       "      <th>OHareNoise</th>\n",
       "      <th>Floodplain</th>\n",
       "      <th>...</th>\n",
       "      <th>CentralAir</th>\n",
       "      <th>Fireplaces</th>\n",
       "      <th>OtherImprovements</th>\n",
       "      <th>GarageIndicator</th>\n",
       "      <th>Garage1Size</th>\n",
       "      <th>Garage2Size</th>\n",
       "      <th>PastMarketValue</th>\n",
       "      <th>SquareFeetRatio</th>\n",
       "      <th>SaleYear</th>\n",
       "      <th>SaleMonth</th>\n",
       "    </tr>\n",
       "  </thead>\n",
       "  <tbody>\n",
       "    <tr>\n",
       "      <th>count</th>\n",
       "      <td>4.083590e+05</td>\n",
       "      <td>4.083590e+05</td>\n",
       "      <td>408359.000000</td>\n",
       "      <td>408095.000000</td>\n",
       "      <td>4.083590e+05</td>\n",
       "      <td>408359.000000</td>\n",
       "      <td>403078.000000</td>\n",
       "      <td>403078.000000</td>\n",
       "      <td>403078.000000</td>\n",
       "      <td>403078.000000</td>\n",
       "      <td>...</td>\n",
       "      <td>286955.000000</td>\n",
       "      <td>286955.000000</td>\n",
       "      <td>286955.000000</td>\n",
       "      <td>286955.000000</td>\n",
       "      <td>286955.000000</td>\n",
       "      <td>286955.000000</td>\n",
       "      <td>4.083590e+05</td>\n",
       "      <td>286955.000000</td>\n",
       "      <td>408359.000000</td>\n",
       "      <td>408359.000000</td>\n",
       "    </tr>\n",
       "    <tr>\n",
       "      <th>mean</th>\n",
       "      <td>2.278922e+05</td>\n",
       "      <td>1.650681e+09</td>\n",
       "      <td>0.818052</td>\n",
       "      <td>0.757184</td>\n",
       "      <td>1.594402e+13</td>\n",
       "      <td>100.452803</td>\n",
       "      <td>-87.763843</td>\n",
       "      <td>41.874265</td>\n",
       "      <td>0.013772</td>\n",
       "      <td>0.039533</td>\n",
       "      <td>...</td>\n",
       "      <td>0.446840</td>\n",
       "      <td>0.299273</td>\n",
       "      <td>14.923148</td>\n",
       "      <td>0.824530</td>\n",
       "      <td>2.239463</td>\n",
       "      <td>6.997498</td>\n",
       "      <td>2.533165e+05</td>\n",
       "      <td>0.256594</td>\n",
       "      <td>2016.313545</td>\n",
       "      <td>6.624064</td>\n",
       "    </tr>\n",
       "    <tr>\n",
       "      <th>std</th>\n",
       "      <td>4.023689e+05</td>\n",
       "      <td>2.027310e+08</td>\n",
       "      <td>0.385802</td>\n",
       "      <td>0.428785</td>\n",
       "      <td>7.447435e+12</td>\n",
       "      <td>97.250955</td>\n",
       "      <td>0.143830</td>\n",
       "      <td>0.159546</td>\n",
       "      <td>0.116541</td>\n",
       "      <td>0.194860</td>\n",
       "      <td>...</td>\n",
       "      <td>0.497167</td>\n",
       "      <td>0.535897</td>\n",
       "      <td>516.151438</td>\n",
       "      <td>0.380369</td>\n",
       "      <td>1.376879</td>\n",
       "      <td>0.112010</td>\n",
       "      <td>3.203531e+05</td>\n",
       "      <td>0.134322</td>\n",
       "      <td>1.979928</td>\n",
       "      <td>3.274229</td>\n",
       "    </tr>\n",
       "    <tr>\n",
       "      <th>min</th>\n",
       "      <td>0.000000e+00</td>\n",
       "      <td>6.234020e+08</td>\n",
       "      <td>0.000000</td>\n",
       "      <td>0.000000</td>\n",
       "      <td>1.011000e+12</td>\n",
       "      <td>10.000000</td>\n",
       "      <td>-88.263497</td>\n",
       "      <td>41.469868</td>\n",
       "      <td>0.000000</td>\n",
       "      <td>0.000000</td>\n",
       "      <td>...</td>\n",
       "      <td>0.000000</td>\n",
       "      <td>0.000000</td>\n",
       "      <td>0.000000</td>\n",
       "      <td>0.000000</td>\n",
       "      <td>0.000000</td>\n",
       "      <td>1.000000</td>\n",
       "      <td>0.000000e+00</td>\n",
       "      <td>0.000000</td>\n",
       "      <td>2013.000000</td>\n",
       "      <td>1.000000</td>\n",
       "    </tr>\n",
       "    <tr>\n",
       "      <th>25%</th>\n",
       "      <td>5.100000e+04</td>\n",
       "      <td>1.508442e+09</td>\n",
       "      <td>1.000000</td>\n",
       "      <td>1.000000</td>\n",
       "      <td>1.201104e+13</td>\n",
       "      <td>31.000000</td>\n",
       "      <td>-87.827509</td>\n",
       "      <td>41.759186</td>\n",
       "      <td>0.000000</td>\n",
       "      <td>0.000000</td>\n",
       "      <td>...</td>\n",
       "      <td>0.000000</td>\n",
       "      <td>0.000000</td>\n",
       "      <td>0.000000</td>\n",
       "      <td>1.000000</td>\n",
       "      <td>1.000000</td>\n",
       "      <td>7.000000</td>\n",
       "      <td>1.232000e+05</td>\n",
       "      <td>0.159247</td>\n",
       "      <td>2015.000000</td>\n",
       "      <td>4.000000</td>\n",
       "    </tr>\n",
       "    <tr>\n",
       "      <th>50%</th>\n",
       "      <td>1.650000e+05</td>\n",
       "      <td>1.635810e+09</td>\n",
       "      <td>1.000000</td>\n",
       "      <td>1.000000</td>\n",
       "      <td>1.527422e+13</td>\n",
       "      <td>71.000000</td>\n",
       "      <td>-87.728092</td>\n",
       "      <td>41.901550</td>\n",
       "      <td>0.000000</td>\n",
       "      <td>0.000000</td>\n",
       "      <td>...</td>\n",
       "      <td>0.000000</td>\n",
       "      <td>0.000000</td>\n",
       "      <td>0.000000</td>\n",
       "      <td>1.000000</td>\n",
       "      <td>3.000000</td>\n",
       "      <td>7.000000</td>\n",
       "      <td>1.910700e+05</td>\n",
       "      <td>0.219432</td>\n",
       "      <td>2016.000000</td>\n",
       "      <td>7.000000</td>\n",
       "    </tr>\n",
       "    <tr>\n",
       "      <th>75%</th>\n",
       "      <td>2.999000e+05</td>\n",
       "      <td>1.819319e+09</td>\n",
       "      <td>1.000000</td>\n",
       "      <td>1.000000</td>\n",
       "      <td>2.017221e+13</td>\n",
       "      <td>130.000000</td>\n",
       "      <td>-87.660191</td>\n",
       "      <td>41.995833</td>\n",
       "      <td>0.000000</td>\n",
       "      <td>0.000000</td>\n",
       "      <td>...</td>\n",
       "      <td>1.000000</td>\n",
       "      <td>1.000000</td>\n",
       "      <td>0.000000</td>\n",
       "      <td>1.000000</td>\n",
       "      <td>3.000000</td>\n",
       "      <td>7.000000</td>\n",
       "      <td>2.974900e+05</td>\n",
       "      <td>0.331210</td>\n",
       "      <td>2018.000000</td>\n",
       "      <td>9.000000</td>\n",
       "    </tr>\n",
       "    <tr>\n",
       "      <th>max</th>\n",
       "      <td>1.350005e+08</td>\n",
       "      <td>7.901008e+09</td>\n",
       "      <td>1.000000</td>\n",
       "      <td>1.000000</td>\n",
       "      <td>3.332302e+13</td>\n",
       "      <td>600.000000</td>\n",
       "      <td>-87.524884</td>\n",
       "      <td>42.153979</td>\n",
       "      <td>1.000000</td>\n",
       "      <td>1.000000</td>\n",
       "      <td>...</td>\n",
       "      <td>1.000000</td>\n",
       "      <td>2.000000</td>\n",
       "      <td>74200.000000</td>\n",
       "      <td>1.000000</td>\n",
       "      <td>7.000000</td>\n",
       "      <td>7.000000</td>\n",
       "      <td>1.209965e+07</td>\n",
       "      <td>0.936838</td>\n",
       "      <td>2019.000000</td>\n",
       "      <td>12.000000</td>\n",
       "    </tr>\n",
       "  </tbody>\n",
       "</table>\n",
       "<p>8 rows × 38 columns</p>\n",
       "</div>"
      ],
      "text/plain": [
       "          SalePrice      SaleDeed  ArmsLengthTransaction  MostRecentSale  \\\n",
       "count  4.083590e+05  4.083590e+05          408359.000000   408095.000000   \n",
       "mean   2.278922e+05  1.650681e+09               0.818052        0.757184   \n",
       "std    4.023689e+05  2.027310e+08               0.385802        0.428785   \n",
       "min    0.000000e+00  6.234020e+08               0.000000        0.000000   \n",
       "25%    5.100000e+04  1.508442e+09               1.000000        1.000000   \n",
       "50%    1.650000e+05  1.635810e+09               1.000000        1.000000   \n",
       "75%    2.999000e+05  1.819319e+09               1.000000        1.000000   \n",
       "max    1.350005e+08  7.901008e+09               1.000000        1.000000   \n",
       "\n",
       "                Pin  NeighborhoodCode      Longitude       Latitude  \\\n",
       "count  4.083590e+05     408359.000000  403078.000000  403078.000000   \n",
       "mean   1.594402e+13        100.452803     -87.763843      41.874265   \n",
       "std    7.447435e+12         97.250955       0.143830       0.159546   \n",
       "min    1.011000e+12         10.000000     -88.263497      41.469868   \n",
       "25%    1.201104e+13         31.000000     -87.827509      41.759186   \n",
       "50%    1.527422e+13         71.000000     -87.728092      41.901550   \n",
       "75%    2.017221e+13        130.000000     -87.660191      41.995833   \n",
       "max    3.332302e+13        600.000000     -87.524884      42.153979   \n",
       "\n",
       "          OHareNoise     Floodplain  ...     CentralAir     Fireplaces  \\\n",
       "count  403078.000000  403078.000000  ...  286955.000000  286955.000000   \n",
       "mean        0.013772       0.039533  ...       0.446840       0.299273   \n",
       "std         0.116541       0.194860  ...       0.497167       0.535897   \n",
       "min         0.000000       0.000000  ...       0.000000       0.000000   \n",
       "25%         0.000000       0.000000  ...       0.000000       0.000000   \n",
       "50%         0.000000       0.000000  ...       0.000000       0.000000   \n",
       "75%         0.000000       0.000000  ...       1.000000       1.000000   \n",
       "max         1.000000       1.000000  ...       1.000000       2.000000   \n",
       "\n",
       "       OtherImprovements  GarageIndicator    Garage1Size    Garage2Size  \\\n",
       "count      286955.000000    286955.000000  286955.000000  286955.000000   \n",
       "mean           14.923148         0.824530       2.239463       6.997498   \n",
       "std           516.151438         0.380369       1.376879       0.112010   \n",
       "min             0.000000         0.000000       0.000000       1.000000   \n",
       "25%             0.000000         1.000000       1.000000       7.000000   \n",
       "50%             0.000000         1.000000       3.000000       7.000000   \n",
       "75%             0.000000         1.000000       3.000000       7.000000   \n",
       "max         74200.000000         1.000000       7.000000       7.000000   \n",
       "\n",
       "       PastMarketValue  SquareFeetRatio       SaleYear      SaleMonth  \n",
       "count     4.083590e+05    286955.000000  408359.000000  408359.000000  \n",
       "mean      2.533165e+05         0.256594    2016.313545       6.624064  \n",
       "std       3.203531e+05         0.134322       1.979928       3.274229  \n",
       "min       0.000000e+00         0.000000    2013.000000       1.000000  \n",
       "25%       1.232000e+05         0.159247    2015.000000       4.000000  \n",
       "50%       1.910700e+05         0.219432    2016.000000       7.000000  \n",
       "75%       2.974900e+05         0.331210    2018.000000       9.000000  \n",
       "max       1.209965e+07         0.936838    2019.000000      12.000000  \n",
       "\n",
       "[8 rows x 38 columns]"
      ]
     },
     "execution_count": 14,
     "metadata": {},
     "output_type": "execute_result"
    }
   ],
   "source": [
    "X.describe()"
   ]
  },
  {
   "cell_type": "code",
   "execution_count": 15,
   "metadata": {
    "execution": {
     "iopub.execute_input": "2020-08-09T20:28:20.582293Z",
     "iopub.status.busy": "2020-08-09T20:28:20.511994Z",
     "iopub.status.idle": "2020-08-09T20:28:20.616925Z",
     "shell.execute_reply": "2020-08-09T20:28:20.616241Z"
    },
    "papermill": {
     "duration": 0.189595,
     "end_time": "2020-08-09T20:28:20.617078",
     "exception": false,
     "start_time": "2020-08-09T20:28:20.427483",
     "status": "completed"
    },
    "tags": []
   },
   "outputs": [],
   "source": [
    "# Separate Target from features\n",
    "\n",
    "y = X.SalePrice              \n",
    "X.drop(['SalePrice'], axis=1, inplace=True)"
   ]
  },
  {
   "cell_type": "code",
   "execution_count": 16,
   "metadata": {
    "execution": {
     "iopub.execute_input": "2020-08-09T20:28:20.681427Z",
     "iopub.status.busy": "2020-08-09T20:28:20.680537Z",
     "iopub.status.idle": "2020-08-09T20:28:21.681219Z",
     "shell.execute_reply": "2020-08-09T20:28:21.680498Z"
    },
    "papermill": {
     "duration": 1.035793,
     "end_time": "2020-08-09T20:28:21.681355",
     "exception": false,
     "start_time": "2020-08-09T20:28:20.645562",
     "status": "completed"
    },
    "tags": []
   },
   "outputs": [],
   "source": [
    "# Break off validation set from training data\n",
    "X_train_full, X_valid_full, y_train, y_valid = train_test_split(X, y, \n",
    "                                                                train_size=0.7, test_size=0.3,\n",
    "                                                                random_state=0)"
   ]
  },
  {
   "cell_type": "code",
   "execution_count": 17,
   "metadata": {
    "execution": {
     "iopub.execute_input": "2020-08-09T20:28:21.770408Z",
     "iopub.status.busy": "2020-08-09T20:28:21.769525Z",
     "iopub.status.idle": "2020-08-09T20:28:23.020606Z",
     "shell.execute_reply": "2020-08-09T20:28:23.019937Z"
    },
    "papermill": {
     "duration": 1.309898,
     "end_time": "2020-08-09T20:28:23.020795",
     "exception": false,
     "start_time": "2020-08-09T20:28:21.710897",
     "status": "completed"
    },
    "tags": []
   },
   "outputs": [],
   "source": [
    "# Select categorical columns with relatively cardinality\n",
    "\n",
    "categorical_cols = [col for col in X_train_full.columns \n",
    "                    if X_train_full[col].nunique() < 10 and \n",
    "                    X_train_full[col].dtype == \"object\"]"
   ]
  },
  {
   "cell_type": "code",
   "execution_count": 18,
   "metadata": {
    "execution": {
     "iopub.execute_input": "2020-08-09T20:28:23.087032Z",
     "iopub.status.busy": "2020-08-09T20:28:23.086095Z",
     "iopub.status.idle": "2020-08-09T20:28:23.091061Z",
     "shell.execute_reply": "2020-08-09T20:28:23.090450Z"
    },
    "papermill": {
     "duration": 0.040801,
     "end_time": "2020-08-09T20:28:23.091200",
     "exception": false,
     "start_time": "2020-08-09T20:28:23.050399",
     "status": "completed"
    },
    "tags": []
   },
   "outputs": [
    {
     "data": {
      "text/plain": [
       "['TownshipLocation',\n",
       " 'Basement',\n",
       " 'BasementFinish',\n",
       " 'CentralHeating',\n",
       " 'OtherHeating',\n",
       " 'AtticType',\n",
       " 'AtticFinish',\n",
       " 'WallMaterial',\n",
       " 'RoofMaterial',\n",
       " 'CathedralCeiling',\n",
       " 'DesignPlan',\n",
       " 'ConstructionQuality',\n",
       " 'Renovation',\n",
       " 'Porch',\n",
       " 'RepairCondition',\n",
       " 'Garage1Material',\n",
       " 'Garage1Attachment',\n",
       " 'Garage1Area',\n",
       " 'Garage2Material',\n",
       " 'Garage2Attachment',\n",
       " 'Garage2Area']"
      ]
     },
     "execution_count": 18,
     "metadata": {},
     "output_type": "execute_result"
    }
   ],
   "source": [
    "categorical_cols"
   ]
  },
  {
   "cell_type": "code",
   "execution_count": 19,
   "metadata": {
    "execution": {
     "iopub.execute_input": "2020-08-09T20:28:23.158602Z",
     "iopub.status.busy": "2020-08-09T20:28:23.157520Z",
     "iopub.status.idle": "2020-08-09T20:28:23.160841Z",
     "shell.execute_reply": "2020-08-09T20:28:23.160199Z"
    },
    "papermill": {
     "duration": 0.039704,
     "end_time": "2020-08-09T20:28:23.160970",
     "exception": false,
     "start_time": "2020-08-09T20:28:23.121266",
     "status": "completed"
    },
    "tags": []
   },
   "outputs": [],
   "source": [
    "# select numerical features\n",
    "\n",
    "numerical_cols = [col for col in X_train_full.columns if \n",
    "                X_train_full[col].dtype in ['int64', 'float64']]"
   ]
  },
  {
   "cell_type": "code",
   "execution_count": 20,
   "metadata": {
    "execution": {
     "iopub.execute_input": "2020-08-09T20:28:23.228253Z",
     "iopub.status.busy": "2020-08-09T20:28:23.227333Z",
     "iopub.status.idle": "2020-08-09T20:28:23.232252Z",
     "shell.execute_reply": "2020-08-09T20:28:23.232840Z"
    },
    "papermill": {
     "duration": 0.04169,
     "end_time": "2020-08-09T20:28:23.233016",
     "exception": false,
     "start_time": "2020-08-09T20:28:23.191326",
     "status": "completed"
    },
    "tags": []
   },
   "outputs": [
    {
     "data": {
      "text/plain": [
       "37"
      ]
     },
     "execution_count": 20,
     "metadata": {},
     "output_type": "execute_result"
    }
   ],
   "source": [
    "len(numerical_cols)"
   ]
  },
  {
   "cell_type": "code",
   "execution_count": 21,
   "metadata": {
    "execution": {
     "iopub.execute_input": "2020-08-09T20:28:23.494077Z",
     "iopub.status.busy": "2020-08-09T20:28:23.391291Z",
     "iopub.status.idle": "2020-08-09T20:28:23.986384Z",
     "shell.execute_reply": "2020-08-09T20:28:23.985582Z"
    },
    "papermill": {
     "duration": 0.72204,
     "end_time": "2020-08-09T20:28:23.986522",
     "exception": false,
     "start_time": "2020-08-09T20:28:23.264482",
     "status": "completed"
    },
    "tags": []
   },
   "outputs": [],
   "source": [
    "# Keep selected columns only\n",
    "my_cols = categorical_cols + numerical_cols\n",
    "X_train = X_train_full[my_cols].copy()\n",
    "X_valid = X_valid_full[my_cols].copy()\n",
    "X_test = X_test_full[my_cols].copy()"
   ]
  },
  {
   "cell_type": "code",
   "execution_count": 22,
   "metadata": {
    "execution": {
     "iopub.execute_input": "2020-08-09T20:28:24.054861Z",
     "iopub.status.busy": "2020-08-09T20:28:24.054060Z",
     "iopub.status.idle": "2020-08-09T20:28:24.058438Z",
     "shell.execute_reply": "2020-08-09T20:28:24.057623Z"
    },
    "papermill": {
     "duration": 0.041119,
     "end_time": "2020-08-09T20:28:24.058570",
     "exception": false,
     "start_time": "2020-08-09T20:28:24.017451",
     "status": "completed"
    },
    "tags": []
   },
   "outputs": [
    {
     "data": {
      "text/plain": [
       "((285851, 58), (122508, 58))"
      ]
     },
     "execution_count": 22,
     "metadata": {},
     "output_type": "execute_result"
    }
   ],
   "source": [
    "X_train.shape,X_valid.shape"
   ]
  },
  {
   "cell_type": "code",
   "execution_count": 23,
   "metadata": {
    "execution": {
     "iopub.execute_input": "2020-08-09T20:28:24.128606Z",
     "iopub.status.busy": "2020-08-09T20:28:24.127786Z",
     "iopub.status.idle": "2020-08-09T20:28:25.402375Z",
     "shell.execute_reply": "2020-08-09T20:28:25.401540Z"
    },
    "papermill": {
     "duration": 1.312191,
     "end_time": "2020-08-09T20:28:25.402508",
     "exception": false,
     "start_time": "2020-08-09T20:28:24.090317",
     "status": "completed"
    },
    "tags": []
   },
   "outputs": [],
   "source": [
    "## Preprocess the data and train the model in a pipeline\n",
    "\n",
    "\n",
    "from sklearn.compose import ColumnTransformer\n",
    "from sklearn.pipeline import Pipeline\n",
    "from sklearn.impute import SimpleImputer\n",
    "from sklearn.preprocessing import OneHotEncoder\n",
    "from xgboost import XGBRegressor\n",
    "from sklearn.metrics import r2_score"
   ]
  },
  {
   "cell_type": "code",
   "execution_count": 24,
   "metadata": {
    "execution": {
     "iopub.execute_input": "2020-08-09T20:28:25.528936Z",
     "iopub.status.busy": "2020-08-09T20:28:25.527684Z",
     "iopub.status.idle": "2020-08-09T20:32:11.595482Z",
     "shell.execute_reply": "2020-08-09T20:32:11.596858Z"
    },
    "papermill": {
     "duration": 226.163495,
     "end_time": "2020-08-09T20:32:11.597248",
     "exception": false,
     "start_time": "2020-08-09T20:28:25.433753",
     "status": "completed"
    },
    "tags": []
   },
   "outputs": [
    {
     "name": "stdout",
     "output_type": "stream",
     "text": [
      "R-squared: 0.3586749249286334\n"
     ]
    }
   ],
   "source": [
    "# Preprocessing for numerical data\n",
    "numerical_transformer = SimpleImputer(strategy='median')\n",
    "\n",
    "# Preprocessing for categorical data\n",
    "categorical_transformer = Pipeline(steps=[\n",
    "    ('imputer', SimpleImputer(strategy='most_frequent')),\n",
    "    ('onehot', OneHotEncoder(handle_unknown='ignore'))\n",
    "])\n",
    "\n",
    "# Bundle preprocessing for numerical and categorical data\n",
    "preprocessor = ColumnTransformer(\n",
    "    transformers=[\n",
    "        ('num', numerical_transformer, numerical_cols),\n",
    "        ('cat', categorical_transformer, categorical_cols)\n",
    "    ])\n",
    "\n",
    "# Define model\n",
    "model = XGBRegressor()\n",
    "\n",
    "# Bundle preprocessing and modeling code in a pipeline\n",
    "clf = Pipeline(steps=[('preprocessor', preprocessor),\n",
    "                      ('model', model)\n",
    "                     ])\n",
    "\n",
    "# Preprocessing of training data, fit model \n",
    "clf.fit(X_train, y_train)\n",
    "\n",
    "# Preprocessing of validation data, get predictions\n",
    "preds = clf.predict(X_valid)\n",
    "\n",
    "\n",
    "print('R-squared:', r2_score(y_valid, preds))"
   ]
  },
  {
   "cell_type": "code",
   "execution_count": 25,
   "metadata": {
    "execution": {
     "iopub.execute_input": "2020-08-09T20:32:11.688187Z",
     "iopub.status.busy": "2020-08-09T20:32:11.687237Z",
     "iopub.status.idle": "2020-08-09T20:32:11.689464Z",
     "shell.execute_reply": "2020-08-09T20:32:11.690307Z"
    },
    "papermill": {
     "duration": 0.05518,
     "end_time": "2020-08-09T20:32:11.690504",
     "exception": false,
     "start_time": "2020-08-09T20:32:11.635324",
     "status": "completed"
    },
    "tags": []
   },
   "outputs": [],
   "source": [
    "## Trying to improve the model\n",
    "\n",
    "# Preprocessing for numerical data\n",
    "numerical_transformer = SimpleImputer(strategy = \"median\") # Your code here\n",
    "\n",
    "# Preprocessing for categorical data\n",
    "categorical_transformer = Pipeline(steps = [(\"imputer\",SimpleImputer(strategy = \"most_frequent\")),\n",
    "                                            (\"one_hot\",OneHotEncoder(handle_unknown = \"ignore\"))]) # Your code here\n",
    "\n",
    "# Bundle preprocessing for numerical and categorical data\n",
    "preprocessor = ColumnTransformer(\n",
    "    transformers=[\n",
    "        ('num', numerical_transformer, numerical_cols),\n",
    "        ('cat', categorical_transformer, categorical_cols)\n",
    "    ])\n",
    "\n",
    "\n",
    "# Define model\n",
    "\n",
    "model = XGBRegressor()"
   ]
  },
  {
   "cell_type": "code",
   "execution_count": 26,
   "metadata": {
    "execution": {
     "iopub.execute_input": "2020-08-09T20:32:11.807233Z",
     "iopub.status.busy": "2020-08-09T20:32:11.805521Z",
     "iopub.status.idle": "2020-08-09T20:35:54.289855Z",
     "shell.execute_reply": "2020-08-09T20:35:54.290552Z"
    },
    "papermill": {
     "duration": 222.562504,
     "end_time": "2020-08-09T20:35:54.290920",
     "exception": false,
     "start_time": "2020-08-09T20:32:11.728416",
     "status": "completed"
    },
    "tags": []
   },
   "outputs": [
    {
     "data": {
      "text/plain": [
       "Pipeline(steps=[('preprocessor',\n",
       "                 ColumnTransformer(transformers=[('num',\n",
       "                                                  SimpleImputer(strategy='median'),\n",
       "                                                  ['SaleDeed',\n",
       "                                                   'ArmsLengthTransaction',\n",
       "                                                   'MostRecentSale', 'Pin',\n",
       "                                                   'NeighborhoodCode',\n",
       "                                                   'Longitude', 'Latitude',\n",
       "                                                   'OHareNoise', 'Floodplain',\n",
       "                                                   'RoadProximity',\n",
       "                                                   'CensusTract', 'Apartments',\n",
       "                                                   'Age', 'TypeOfResidence',\n",
       "                                                   'MultiPropertyIndicator',\n",
       "                                                   'MultiFamilyIndicator',\n",
       "                                                   'Mul...\n",
       "                              colsample_bytree=1, gamma=0, gpu_id=-1,\n",
       "                              importance_type='gain',\n",
       "                              interaction_constraints='',\n",
       "                              learning_rate=0.300000012, max_delta_step=0,\n",
       "                              max_depth=6, min_child_weight=1, missing=nan,\n",
       "                              monotone_constraints='()', n_estimators=100,\n",
       "                              n_jobs=0, num_parallel_tree=1, random_state=0,\n",
       "                              reg_alpha=0, reg_lambda=1, scale_pos_weight=1,\n",
       "                              subsample=1, tree_method='exact',\n",
       "                              validate_parameters=1, verbosity=None))])"
      ]
     },
     "execution_count": 26,
     "metadata": {},
     "output_type": "execute_result"
    }
   ],
   "source": [
    "# Bundle preprocessing and modeling code in a pipeline\n",
    "my_pipeline = Pipeline(steps=[('preprocessor', preprocessor),\n",
    "                              ('model', model)\n",
    "                             ])\n",
    "\n",
    "# Preprocessing of training data, fit model \n",
    "my_pipeline.fit(X_train, y_train)\n",
    "\n"
   ]
  },
  {
   "cell_type": "code",
   "execution_count": 27,
   "metadata": {
    "execution": {
     "iopub.execute_input": "2020-08-09T20:35:54.379919Z",
     "iopub.status.busy": "2020-08-09T20:35:54.379068Z",
     "iopub.status.idle": "2020-08-09T20:35:57.076562Z",
     "shell.execute_reply": "2020-08-09T20:35:57.077297Z"
    },
    "papermill": {
     "duration": 2.753567,
     "end_time": "2020-08-09T20:35:57.077495",
     "exception": false,
     "start_time": "2020-08-09T20:35:54.323928",
     "status": "completed"
    },
    "tags": []
   },
   "outputs": [],
   "source": [
    "# Preprocessing of test data, fit model\n",
    "preds_test = my_pipeline.predict(X_test)"
   ]
  },
  {
   "cell_type": "code",
   "execution_count": 28,
   "metadata": {
    "execution": {
     "iopub.execute_input": "2020-08-09T20:35:57.164530Z",
     "iopub.status.busy": "2020-08-09T20:35:57.163629Z",
     "iopub.status.idle": "2020-08-09T20:35:57.771385Z",
     "shell.execute_reply": "2020-08-09T20:35:57.770542Z"
    },
    "papermill": {
     "duration": 0.655183,
     "end_time": "2020-08-09T20:35:57.771519",
     "exception": false,
     "start_time": "2020-08-09T20:35:57.116336",
     "status": "completed"
    },
    "tags": []
   },
   "outputs": [],
   "source": [
    "# Save test predictions to file\n",
    "output = pd.DataFrame({'Id': X_test.index,\n",
    "                       'SalePrice': preds_test})\n",
    "output.to_csv('submission_Sreyartha_0.csv', index=False)"
   ]
  },
  {
   "cell_type": "code",
   "execution_count": null,
   "metadata": {
    "papermill": {
     "duration": 0.032421,
     "end_time": "2020-08-09T20:35:57.836973",
     "exception": false,
     "start_time": "2020-08-09T20:35:57.804552",
     "status": "completed"
    },
    "tags": []
   },
   "outputs": [],
   "source": []
  }
 ],
 "metadata": {
  "kernelspec": {
   "display_name": "Python 3",
   "language": "python",
   "name": "python3"
  },
  "language_info": {
   "codemirror_mode": {
    "name": "ipython",
    "version": 3
   },
   "file_extension": ".py",
   "mimetype": "text/x-python",
   "name": "python",
   "nbconvert_exporter": "python",
   "pygments_lexer": "ipython3",
   "version": "3.7.6"
  },
  "papermill": {
   "duration": 476.043482,
   "end_time": "2020-08-09T20:35:57.980496",
   "environment_variables": {},
   "exception": null,
   "input_path": "__notebook__.ipynb",
   "output_path": "__notebook__.ipynb",
   "parameters": {},
   "start_time": "2020-08-09T20:28:01.937014",
   "version": "2.1.0"
  }
 },
 "nbformat": 4,
 "nbformat_minor": 4
}
